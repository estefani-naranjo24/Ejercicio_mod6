{
  "metadata": {
    "kernelspec": {
      "name": "python",
      "display_name": "Python (Pyodide)",
      "language": "python"
    },
    "language_info": {
      "codemirror_mode": {
        "name": "python",
        "version": 3
      },
      "file_extension": ".py",
      "mimetype": "text/x-python",
      "name": "python",
      "nbconvert_exporter": "python",
      "pygments_lexer": "ipython3",
      "version": "3.8"
    }
  },
  "nbformat_minor": 4,
  "nbformat": 4,
  "cells": [
    {
      "cell_type": "markdown",
      "source": "# Data Science Tools and Ecosystem",
      "metadata": {}
    },
    {
      "cell_type": "markdown",
      "source": "2-title.png",
      "metadata": {}
    },
    {
      "cell_type": "markdown",
      "source": "En este cuaderno, se resumen las herramientas y ecosistemas de ciencia de datos",
      "metadata": {}
    },
    {
      "cell_type": "markdown",
      "source": "3-intro.png",
      "metadata": {}
    },
    {
      "cell_type": "markdown",
      "source": "Algunos de los lenguajes populares que utilizan los científicos de datos son:",
      "metadata": {}
    },
    {
      "cell_type": "markdown",
      "source": "## Lenguajes de Ciencia de Datos  \n- Python  \n- R  \n- SQL  \n- Julia  \n- Scala  ",
      "metadata": {}
    },
    {
      "cell_type": "markdown",
      "source": "4-dslanguages.png",
      "metadata": {}
    },
    {
      "cell_type": "markdown",
      "source": "Algunas de las bibliotecas comúnmente utilizadas por los científicos de datos incluyen:",
      "metadata": {}
    },
    {
      "cell_type": "markdown",
      "source": "## Bibliotecas de Ciencia de Datos  \n- Pandas  \n- NumPy  \n- Matplotlib  \n- Scikit-learn  \n- TensorFlow  \n",
      "metadata": {}
    },
    {
      "cell_type": "markdown",
      "source": "5-dslibraries.png",
      "metadata": {}
    },
    {
      "cell_type": "markdown",
      "source": "Herramientas de Ciencia de Datos",
      "metadata": {}
    },
    {
      "cell_type": "markdown",
      "source": "## Herramientas de Ciencia de Datos  \n| Herramienta      | Descripción                  |  \n|------------------|------------------------------|  \n| Jupyter Notebook | Entorno interactivo          |  \n| RStudio          | Desarrollo en R             |  \n| TensorFlow       | Framework de aprendizaje automático |  \n",
      "metadata": {}
    },
    {
      "cell_type": "markdown",
      "source": "6-dstools.png",
      "metadata": {}
    },
    {
      "cell_type": "raw",
      "source": "A continuación, se presentan algunos ejemplos de evaluación de expresiones aritméticas en Python",
      "metadata": {}
    },
    {
      "cell_type": "markdown",
      "source": "7-introarithmetic.png",
      "metadata": {}
    },
    {
      "cell_type": "code",
      "source": "(3*4)+5",
      "metadata": {
        "trusted": true
      },
      "outputs": [
        {
          "execution_count": 1,
          "output_type": "execute_result",
          "data": {
            "text/plain": "17"
          },
          "metadata": {}
        }
      ],
      "execution_count": 1
    },
    {
      "cell_type": "markdown",
      "source": "## Ejemplos de expresiones aritméticas  \n- `3 + 5 = 8`  \n- `10 * 2 = 20`  \n- `(15 / 3) + 4 = 9`  \n",
      "metadata": {}
    },
    {
      "cell_type": "code",
      "source": "Esta es una expresión aritmética simple para multiplicar y luego sumar enteros",
      "metadata": {
        "trusted": true
      },
      "outputs": [],
      "execution_count": null
    },
    {
      "cell_type": "code",
      "source": "resultado = (3 * 4) + 5\nprint(\"El resultado es:\", resultado)\n",
      "metadata": {
        "trusted": true
      },
      "outputs": [
        {
          "name": "stdout",
          "text": "El resultado es: 17\n",
          "output_type": "stream"
        }
      ],
      "execution_count": 2
    },
    {
      "cell_type": "markdown",
      "source": "8-multiplyandaddintegers.png",
      "metadata": {}
    },
    {
      "cell_type": "code",
      "source": "Esto convertirá 200 minutos a horas dividiendo por 60",
      "metadata": {
        "trusted": true
      },
      "outputs": [],
      "execution_count": null
    },
    {
      "cell_type": "markdown",
      "source": "9-hourstominutes.png",
      "metadata": {}
    },
    {
      "cell_type": "code",
      "source": "minutos = 150\nhoras = minutos / 60\nprint(f\"{minutos} minutos equivalen a {horas} horas\")\n",
      "metadata": {
        "trusted": true
      },
      "outputs": [
        {
          "name": "stdout",
          "text": "150 minutos equivalen a 2.5 horas\n",
          "output_type": "stream"
        }
      ],
      "execution_count": 3
    },
    {
      "cell_type": "markdown",
      "source": "Listar lenguajes populares para Ciencia de Datos",
      "metadata": {}
    },
    {
      "cell_type": "markdown",
      "source": "10-objectives.png",
      "metadata": {}
    },
    {
      "cell_type": "code",
      "source": "objetivos = [\"Aprender herramientas de Ciencia de Datos\", \"Practicar Markdown y Python\", \"Compartir el cuaderno públicamente\"]\nfor objetivo in objetivos:\n    print(\"- \" + objetivo)\n",
      "metadata": {
        "trusted": true
      },
      "outputs": [
        {
          "name": "stdout",
          "text": "- Aprender herramientas de Ciencia de Datos\n- Practicar Markdown y Python\n- Compartir el cuaderno públicamente\n",
          "output_type": "stream"
        }
      ],
      "execution_count": 4
    },
    {
      "cell_type": "markdown",
      "source": "## Autor  \n- Nombre: Estefanía N \n",
      "metadata": {}
    },
    {
      "cell_type": "markdown",
      "source": "11-authordetails.png",
      "metadata": {}
    },
    {
      "cell_type": "markdown",
      "source": "1-notebook.png",
      "metadata": {}
    },
    {
      "cell_type": "code",
      "source": "",
      "metadata": {
        "trusted": true
      },
      "outputs": [],
      "execution_count": null
    },
    {
      "cell_type": "code",
      "source": "",
      "metadata": {
        "trusted": true,
        "tags": [],
        "editable": true,
        "slideshow": {
          "slide_type": ""
        }
      },
      "outputs": [],
      "execution_count": null
    }
  ]
}