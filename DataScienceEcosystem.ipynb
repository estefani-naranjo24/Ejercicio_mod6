{
  "metadata": {
    "kernelspec": {
      "name": "python",
      "display_name": "Python (Pyodide)",
      "language": "python"
    },
    "language_info": {
      "codemirror_mode": {
        "name": "python",
        "version": 3
      },
      "file_extension": ".py",
      "mimetype": "text/x-python",
      "name": "python",
      "nbconvert_exporter": "python",
      "pygments_lexer": "ipython3",
      "version": "3.8"
    }
  },
  "nbformat_minor": 4,
  "nbformat": 4,
  "cells": [
    {
      "cell_type": "markdown",
      "source": "Data Science Tools and Ecosystem",
      "metadata": {}
    },
    {
      "cell_type": "markdown",
      "source": "2-title.png",
      "metadata": {}
    },
    {
      "cell_type": "markdown",
      "source": "En este cuaderno, se resumen las herramientas y ecosistemas de ciencia de datos",
      "metadata": {}
    },
    {
      "cell_type": "markdown",
      "source": "3-intro.png",
      "metadata": {}
    },
    {
      "cell_type": "markdown",
      "source": "Algunos de los lenguajes populares que utilizan los científicos de datos son:",
      "metadata": {}
    },
    {
      "cell_type": "markdown",
      "source": "4-dslanguages.png",
      "metadata": {}
    },
    {
      "cell_type": "markdown",
      "source": "Algunas de las bibliotecas comúnmente utilizadas por los científicos de datos incluyen:",
      "metadata": {}
    },
    {
      "cell_type": "markdown",
      "source": "5-dslibraries.png",
      "metadata": {}
    },
    {
      "cell_type": "markdown",
      "source": "Herramientas de Ciencia de Datos",
      "metadata": {}
    },
    {
      "cell_type": "markdown",
      "source": "6-dstools.png",
      "metadata": {}
    },
    {
      "cell_type": "raw",
      "source": "A continuación, se presentan algunos ejemplos de evaluación de expresiones aritméticas en Python",
      "metadata": {}
    },
    {
      "cell_type": "markdown",
      "source": "7-introarithmetic.png",
      "metadata": {}
    },
    {
      "cell_type": "code",
      "source": "(3*4)+5",
      "metadata": {
        "trusted": true
      },
      "outputs": [
        {
          "execution_count": 8,
          "output_type": "execute_result",
          "data": {
            "text/plain": "17"
          },
          "metadata": {}
        }
      ],
      "execution_count": 8
    },
    {
      "cell_type": "code",
      "source": "Esta es una expresión aritmética simple para multiplicar y luego sumar enteros",
      "metadata": {
        "trusted": true
      },
      "outputs": [],
      "execution_count": null
    },
    {
      "cell_type": "markdown",
      "source": "8-multiplyandaddintegers.png",
      "metadata": {}
    },
    {
      "cell_type": "code",
      "source": "Esto convertirá 200 minutos a horas dividiendo por 60",
      "metadata": {
        "trusted": true
      },
      "outputs": [],
      "execution_count": null
    },
    {
      "cell_type": "code",
      "source": "",
      "metadata": {
        "trusted": true
      },
      "outputs": [],
      "execution_count": null
    },
    {
      "cell_type": "markdown",
      "source": "9-hourstominutes.png",
      "metadata": {}
    },
    {
      "cell_type": "markdown",
      "source": "Listar lenguajes populares para Ciencia de Datos",
      "metadata": {}
    },
    {
      "cell_type": "markdown",
      "source": "10-objectives.png",
      "metadata": {}
    },
    {
      "cell_type": "markdown",
      "source": "Autor: ",
      "metadata": {}
    },
    {
      "cell_type": "markdown",
      "source": "Estefania Naranjo",
      "metadata": {}
    },
    {
      "cell_type": "markdown",
      "source": "11-authordetails.png",
      "metadata": {}
    },
    {
      "cell_type": "markdown",
      "source": "1-notebook.png",
      "metadata": {}
    },
    {
      "cell_type": "code",
      "source": "",
      "metadata": {
        "trusted": true
      },
      "outputs": [],
      "execution_count": null
    },
    {
      "cell_type": "code",
      "source": "",
      "metadata": {
        "trusted": true
      },
      "outputs": [],
      "execution_count": null
    }
  ]
}